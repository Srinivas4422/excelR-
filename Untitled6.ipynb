{
 "cells": [
  {
   "cell_type": "code",
   "execution_count": 3,
   "id": "a3c60980-6ed6-4255-b042-2de7ea440c24",
   "metadata": {},
   "outputs": [
    {
     "name": "stdout",
     "output_type": "stream",
     "text": [
      "Error: The file at your_text_file.txt was not found.\n"
     ]
    }
   ],
   "source": [
    "from collections import Counter  \n",
    "import re  \n",
    "\n",
    "def load_text_file(file_path):  \n",
    "    try:  \n",
    "        with open(file_path, 'r', encoding='utf-8') as file:  \n",
    "            text = file.read()  \n",
    "        return text  \n",
    "    except FileNotFoundError:  \n",
    "        print(f\"Error: The file at {file_path} was not found.\")  \n",
    "        return \"\"  \n",
    "    except Exception as e:  \n",
    "        print(f\"An error occurred: {e}\")  \n",
    "        return \"\"  \n",
    "\n",
    "def tokenize(text):  \n",
    "    tokens = re.findall(r'\\b\\w+\\b', text.lower())  \n",
    "    return tokens  \n",
    "\n",
    "def calculate_tf(tokens):  \n",
    "    term_freq = Counter(tokens)  \n",
    "    return term_freq  \n",
    "\n",
    "def display_top_tokens(term_freq, top_n=5):  \n",
    "    top_tokens = term_freq.most_common(top_n)  \n",
    "    for token, freq in top_tokens:  \n",
    "        print(f'{token}: {freq}')  \n",
    "\n",
    "if __name__ == \"__main__\":  \n",
    "    file_path = 'your_text_file.txt'  # Replace with your text file path  \n",
    "    text = load_text_file(file_path)  \n",
    "    if text:  # Proceed only if the text is successfully loaded  \n",
    "        tokens = tokenize(text)  \n",
    "        term_freq = calculate_tf(tokens)  \n",
    "        display_top_tokens(term_freq)"
   ]
  },
  {
   "cell_type": "code",
   "execution_count": null,
   "id": "5a3e24c8-9d98-4245-b102-40b619083295",
   "metadata": {},
   "outputs": [],
   "source": []
  }
 ],
 "metadata": {
  "kernelspec": {
   "display_name": "Python 3 (ipykernel)",
   "language": "python",
   "name": "python3"
  },
  "language_info": {
   "codemirror_mode": {
    "name": "ipython",
    "version": 3
   },
   "file_extension": ".py",
   "mimetype": "text/x-python",
   "name": "python",
   "nbconvert_exporter": "python",
   "pygments_lexer": "ipython3",
   "version": "3.13.1"
  }
 },
 "nbformat": 4,
 "nbformat_minor": 5
}
